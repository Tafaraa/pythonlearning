{
 "cells": [
  {
   "cell_type": "markdown",
   "metadata": {},
   "source": [
    "# Python Ex\n",
    "\n",
    "**1. Unique crop types in the dataset**"
   ]
  },
  {
   "cell_type": "code",
   "execution_count": 1,
   "metadata": {},
   "outputs": [
    {
     "name": "stdout",
     "output_type": "stream",
     "text": [
      "The number of unique crop types in the dataset is: 8\n"
     ]
    }
   ],
   "source": [
    "# Importing the necessary libraries\n",
    "import pandas as pd\n",
    "\n",
    "# Reading the CSV file into a DataFrame\n",
    "file_path = 'MD_agric_exam-4313.csv'  # Replace 'your_file_name.csv' with the actual file name\n",
    "df = pd.read_csv(file_path)\n",
    "\n",
    "# Displaying the first few rows of the DataFrame to understand the structure\n",
    "df.head()\n",
    "\n",
    "# Determining the number of unique crop types\n",
    "unique_crop_types = df['Crop_type'].nunique()\n",
    "\n",
    "# Displaying the result\n",
    "print(f'The number of unique crop types in the dataset is: {unique_crop_types}')\n"
   ]
  },
  {
   "cell_type": "markdown",
   "metadata": {},
   "source": [
    "**2. The maximum annual yield for \"wheat\" crop type in the dataset (rounded to 2 decimal places)**"
   ]
  },
  {
   "cell_type": "code",
   "execution_count": 2,
   "metadata": {},
   "outputs": [
    {
     "name": "stdout",
     "output_type": "stream",
     "text": [
      "The maximum annual yield for \"wheat\" crop type is: 8.99\n"
     ]
    }
   ],
   "source": [
    "# Filtering rows where Crop_type is \"wheat\" and finding the maximum annual yield\n",
    "max_wheat_yield = df[df['Crop_type'] == 'wheat']['Annual_yield'].max()\n",
    "\n",
    "# Displaying the result\n",
    "print(f'The maximum annual yield for \"wheat\" crop type is: {max_wheat_yield:.2f}')"
   ]
  },
  {
   "cell_type": "markdown",
   "metadata": {},
   "source": [
    "**3. The total rainfall for crop types where the average pollution level is above 0.2.**"
   ]
  },
  {
   "cell_type": "code",
   "execution_count": 3,
   "metadata": {},
   "outputs": [
    {
     "name": "stdout",
     "output_type": "stream",
     "text": [
      "The total rainfall for crop types with average pollution level above 0.2 is: 941959.70\n"
     ]
    }
   ],
   "source": [
    "# Filtering rows where the average pollution level is above 0.2\n",
    "filtered_df = df.groupby('Crop_type').filter(lambda x: x['Pollution_level'].mean() > 0.2)\n",
    "\n",
    "# Calculating the total rainfall for the filtered crop types\n",
    "total_rainfall = filtered_df['Rainfall'].sum()\n",
    "\n",
    "# Displaying the result\n",
    "print(f'The total rainfall for crop types with average pollution level above 0.2 is: {total_rainfall:.2f}')"
   ]
  },
  {
   "cell_type": "markdown",
   "metadata": {},
   "source": [
    "**4. A function to calculate the temperature range (Max_temperature_C - Min_temperature_C) for each farmer's field.**"
   ]
  },
  {
   "cell_type": "code",
   "execution_count": 4,
   "metadata": {},
   "outputs": [
    {
     "name": "stdout",
     "output_type": "stream",
     "text": [
      "Temperature range for Field_ID 1458: 40.70°C\n",
      "Temperature range for Field_ID 1895: 35.70°C\n",
      "Temperature range for Field_ID 5443: 33.40°C\n"
     ]
    }
   ],
   "source": [
    "# Function to calculate temperature range for a given Field_ID\n",
    "def calculate_temperature_range(field_id):\n",
    "    field_data = df[df['Field_ID'] == field_id]\n",
    "    if not field_data.empty:\n",
    "        min_temp = field_data['Min_temperature_C'].values[0]\n",
    "        max_temp = field_data['Max_temperature_C'].values[0]\n",
    "        temperature_range = max_temp - min_temp\n",
    "        return temperature_range\n",
    "    else:\n",
    "        return None\n",
    "\n",
    "# List of Field_ID values to call the function to display example output\n",
    "field_ids_to_call = [1458, 1895, 5443]\n",
    "\n",
    "# Calling the function for each Field_ID and displaying the results\n",
    "for field_id in field_ids_to_call:\n",
    "    temperature_range = calculate_temperature_range(field_id)\n",
    "    if temperature_range is not None:\n",
    "        print(f'Temperature range for Field_ID {field_id}: {temperature_range:.2f}°C')\n",
    "    else:\n",
    "        print(f'No data found for Field_ID {field_id}')"
   ]
  },
  {
   "cell_type": "markdown",
   "metadata": {},
   "source": [
    "**5. Code to calculate the total plot size for plots where the pH is less than 5.5.**"
   ]
  },
  {
   "cell_type": "code",
   "execution_count": 5,
   "metadata": {},
   "outputs": [
    {
     "name": "stdout",
     "output_type": "stream",
     "text": [
      "The total plot size for plots with pH less than 5.5 is: 1731.90\n"
     ]
    }
   ],
   "source": [
    "# Filtering rows where pH is less than 5.5 and calculating the total plot size\n",
    "total_plot_size_low_pH = df[df['pH'] < 5.5]['Plot_size'].sum()\n",
    "\n",
    "# Displaying the result\n",
    "print(f'The total plot size for plots with pH less than 5.5 is: {total_plot_size_low_pH:.2f}')"
   ]
  },
  {
   "cell_type": "markdown",
   "metadata": {},
   "source": [
    "**6.  Creating a datafram that includes entries with a 'Min_temperature_C’< -5 and a 'Max_temperature_C' > 30.** "
   ]
  },
  {
   "cell_type": "code",
   "execution_count": 6,
   "metadata": {},
   "outputs": [
    {
     "name": "stdout",
     "output_type": "stream",
     "text": [
      "    Field_ID  Elevation  Rainfall  Min_temperature_C  Max_temperature_C  \\\n",
      "0       1162  494.95615    1507.6               -5.4               31.0   \n",
      "2       3504  396.87990    1715.1               -6.1               31.7   \n",
      "5       2274  270.45100    1665.2               -7.2               34.3   \n",
      "13      4807  520.29770     292.3               -6.3               32.9   \n",
      "14       973  432.03570    1464.4               -6.0               30.2   \n",
      "\n",
      "          pH  Pollution_level  Plot_size  Annual_yield Crop_type  \n",
      "0   6.859436         0.007034        3.6      1.617421    coffee  \n",
      "2   5.774116         0.000409        2.6      1.262207    banana  \n",
      "5   5.873082         0.001545        3.9      1.743458    banana  \n",
      "13  5.379286         0.196589        1.4      0.881568    potato  \n",
      "14  7.482802         0.019800        3.0      1.377434     wheat  \n",
      "The number of rows in the filtered dataset is: 319\n"
     ]
    }
   ],
   "source": [
    "# Creating a DataFrame with entries satisfying the conditions\n",
    "filtered_df = df[(df['Min_temperature_C'] < -5) & (df['Max_temperature_C'] > 30)]\n",
    "\n",
    "# Displaying the first few rows of the filtered DataFrame\n",
    "print(filtered_df.head())\n",
    "\n",
    "# Determining the number of rows in the filtered dataset\n",
    "num_rows_filtered = filtered_df.shape[0]\n",
    "\n",
    "# Displaying the result\n",
    "print(f'The number of rows in the filtered dataset is: {num_rows_filtered}')"
   ]
  },
  {
   "cell_type": "markdown",
   "metadata": {},
   "source": [
    "**7. Using Numpy, to calculate the standard deviation of the 'Rainfall' for plots where the 'Plot_size' is larger than the median plot size of the dataset (rounded to 2 decimal places).**"
   ]
  },
  {
   "cell_type": "code",
   "execution_count": 7,
   "metadata": {},
   "outputs": [
    {
     "name": "stdout",
     "output_type": "stream",
     "text": [
      "The standard deviation of Rainfall for plots with Plot_size > median plot size is: 470.09\n"
     ]
    }
   ],
   "source": [
    "import numpy as np\n",
    "\n",
    "# Calculating the median plot size\n",
    "median_plot_size = df['Plot_size'].median()\n",
    "\n",
    "# Filtering rows where 'Plot_size' is larger than the median plot size\n",
    "filtered_df = df[df['Plot_size'] > median_plot_size]\n",
    "\n",
    "# Calculating the standard deviation of 'Rainfall' for the filtered plots\n",
    "rainfall_std_dev = np.std(filtered_df['Rainfall'], ddof=1)\n",
    "\n",
    "# Rounding the result to 2 decimal places\n",
    "rainfall_std_dev_rounded = round(rainfall_std_dev, 2)\n",
    "\n",
    "# Displaying the result\n",
    "print(f'The standard deviation of Rainfall for plots with Plot_size > median plot size is: {rainfall_std_dev_rounded}')"
   ]
  },
  {
   "cell_type": "markdown",
   "metadata": {},
   "source": [
    "**8. Concatenating the first three digits of the most common ‘Max_temperature_C’ with the last three letters of the least common 'Crop_type', to get a string**"
   ]
  },
  {
   "cell_type": "code",
   "execution_count": 8,
   "metadata": {},
   "outputs": [
    {
     "name": "stdout",
     "output_type": "stream",
     "text": [
      "The concatenated string is: 30ice\n"
     ]
    }
   ],
   "source": [
    "# Finding the most common Max_temperature_C (using the first mode if there are multiple modes)\n",
    "most_common_max_temp = df['Max_temperature_C'].mode().iloc[0]\n",
    "\n",
    "# Finding the least common Crop_type\n",
    "least_common_crop_type = df['Crop_type'].value_counts().idxmin()\n",
    "\n",
    "# Concatenating the first three digits of the most common Max_temperature_C\n",
    "# with the last three letters of the least common Crop_type\n",
    "result_string = str(int(most_common_max_temp))[:3] + least_common_crop_type[-3:]\n",
    "\n",
    "# Displaying the result\n",
    "print(f'The concatenated string is: {result_string}')"
   ]
  },
  {
   "cell_type": "markdown",
   "metadata": {},
   "source": [
    "**9. Python code to create a violin plot visualising the distribution of 'Annual_yield' across different 'Elevation' ranges. The elevation range categories (Low: < 300m, Medium: 300m - 600m, High: > 600m) to categorise the data before plotting.**"
   ]
  },
  {
   "cell_type": "code",
   "execution_count": 9,
   "metadata": {},
   "outputs": [
    {
     "name": "stderr",
     "output_type": "stream",
     "text": [
      "C:\\Users\\mutsv\\AppData\\Local\\Temp\\ipykernel_27584\\1428672354.py:10: FutureWarning: \n",
      "\n",
      "Passing `palette` without assigning `hue` is deprecated and will be removed in v0.14.0. Assign the `x` variable to `hue` and set `legend=False` for the same effect.\n",
      "\n",
      "  sns.violinplot(x='Elevation_Category', y='Annual_yield', data=df, palette='viridis')\n"
     ]
    },
    {
     "data": {
      "image/png": "[encoded data removed]",
      "text/plain": [
       "<Figure size 1000x600 with 1 Axes>"
      ]
     },
     "metadata": {},
     "output_type": "display_data"
    }
   ],
   "source": [
    "import seaborn as sns\n",
    "import matplotlib.pyplot as plt\n",
    "\n",
    "# Categorizing the 'Elevation' ranges\n",
    "df['Elevation_Category'] = pd.cut(df['Elevation'], bins=[-float('inf'), 300, 600, float('inf')],\n",
    "                                  labels=['Low', 'Medium', 'High'])\n",
    "\n",
    "# Creating a violin plot\n",
    "plt.figure(figsize=(10, 6))\n",
    "sns.violinplot(x='Elevation_Category', y='Annual_yield', data=df, palette='viridis')\n",
    "plt.title('Distribution of Annual Yield across Elevation Categories')\n",
    "plt.xlabel('Elevation Category')\n",
    "plt.ylabel('Annual Yield')\n",
    "plt.show()"
   ]
  },
  {
   "cell_type": "markdown",
   "metadata": {},
   "source": [
    "**10. Python code to perform a t-test comparing the average 'Annual_yield' between 'coffee' and 'banana' crop types using scipy.stats.**"
   ]
  },
  {
   "cell_type": "code",
   "execution_count": 14,
   "metadata": {},
   "outputs": [
    {
     "name": "stdout",
     "output_type": "stream",
     "text": [
      "The p-value for the t-test is: 0.598\n"
     ]
    }
   ],
   "source": [
    "from scipy.stats import ttest_ind\n",
    "\n",
    "# Extracting 'Annual_yield' data for 'coffee' and 'banana'\n",
    "annual_yield_coffee = df[df['Crop_type'] == 'coffee']['Annual_yield']\n",
    "annual_yield_banana = df[df['Crop_type'] == 'banana']['Annual_yield']\n",
    "\n",
    "# Performing t-test\n",
    "t_statistic, p_value = ttest_ind(annual_yield_coffee, annual_yield_banana, equal_var=False)\n",
    "\n",
    "# Rounding the p-value to three decimal places\n",
    "rounded_p_value = round(p_value, 3)\n",
    "\n",
    "# Displaying the result\n",
    "print(f'The p-value for the t-test is: {rounded_p_value}')"
   ]
  }
 ],
 "metadata": {
  "kernelspec": {
   "display_name": "create_enviroment",
   "language": "python",
   "name": "python3"
  },
  "language_info": {
   "codemirror_mode": {
    "name": "ipython",
    "version": 3
   },
   "file_extension": ".py",
   "mimetype": "text/x-python",
   "name": "python",
   "nbconvert_exporter": "python",
   "pygments_lexer": "ipython3",
   "version": "3.11.7"
  }
 },
 "nbformat": 4,
 "nbformat_minor": 2
}
